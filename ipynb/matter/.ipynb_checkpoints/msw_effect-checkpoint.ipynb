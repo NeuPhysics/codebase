{
 "cells": [
  {
   "cell_type": "markdown",
   "metadata": {},
   "source": [
    "## MSW Effect"
   ]
  },
  {
   "cell_type": "markdown",
   "metadata": {},
   "source": [
    "Paremeters to be used\n",
    "\n",
    "1. mixing angle $\\theta$\n",
    "2. mass difference $\\Delta m^2$\n",
    "3. energy of neutrinos $E$\n",
    "4. matter profile $n_e(x)$"
   ]
  },
  {
   "cell_type": "markdown",
   "metadata": {},
   "source": [
    "Survival probability is given by\n",
    "\n",
    "\\begin{equation}\n",
    "P_{\\nu_e\\to\\nu_e} =  \\frac{1}{2} + \\left( \\frac{1}{2} - P_f \\right) \\cos 2\\theta \\cos 2\\theta_m,\n",
    "\\end{equation}\n",
    "\n",
    "where \n",
    "\n",
    "\\begin{equation}\n",
    "P_f = e^{-\\frac{\\pi}{2}\\gamma},\n",
    "\\end{equation}\n",
    "\n",
    "and \n",
    "\n",
    "\\begin{equation}\n",
    "\\gamma = \\frac{\\Delta m^2 \\sin^2 2\\theta}{2E \\cos 2\\theta \\left\\lvert \\frac{1}{n_e} \\frac{dn_e}{dr} \\right\\rvert } = \\frac{\\omega \\sin^2 2\\theta}{\\cos 2\\theta \\left\\lvert \\frac{1}{n_e} \\frac{dn_e}{dr} \\right\\rvert }\n",
    "\\end{equation}"
   ]
  },
  {
   "cell_type": "markdown",
   "metadata": {},
   "source": [
    "in which \n",
    "\n",
    "\\begin{equation}\n",
    "\\cos 2\\theta_m = \\frac{\\cos 2\\theta - \\hat\\lambda}{\\sqrt{\\hat\\lambda^2 + 1 - 2\\hat\\lambda \\cos 2\\theta}},\n",
    "\\end{equation}"
   ]
  },
  {
   "cell_type": "markdown",
   "metadata": {},
   "source": [
    "What we would like to produce is the survival probability of electron neutrinos as a heat map with two parameters mass difference $\\Delta m^2$ and $\\sin^22\\theta$ at each distance $x$.\n",
    "\n",
    "The formula we have above is only valid far away from the resonance where the Landau-Zener transition happens."
   ]
  },
  {
   "cell_type": "code",
   "execution_count": 13,
   "metadata": {
    "collapsed": true
   },
   "outputs": [],
   "source": [
    "import numpy as np\n",
    "import sys\n",
    "sys.path.insert(0,'../../module')\n",
    "import neuosc as ns"
   ]
  },
  {
   "cell_type": "code",
   "execution_count": 14,
   "metadata": {
    "collapsed": false
   },
   "outputs": [],
   "source": [
    "neut = ns.Neutrino(20000000,0.1,0.01)"
   ]
  },
  {
   "cell_type": "code",
   "execution_count": 15,
   "metadata": {
    "collapsed": false
   },
   "outputs": [
    {
     "name": "stdout",
     "output_type": "stream",
     "text": [
      "[[ 0.99500417  0.09983342]\n",
      " [-0.09983342  0.99500417]]\n"
     ]
    }
   ],
   "source": [
    "print neut.mixing_matrix()"
   ]
  },
  {
   "cell_type": "code",
   "execution_count": null,
   "metadata": {
    "collapsed": true
   },
   "outputs": [],
   "source": [
    "def probability(energy,mixing_angle,mass_difference,matter_profile, derivative_of_ne):\n",
    "    \"\"\"Survival probability of electron neutrinos\n",
    "    \n",
    "    The parameter matter_profile should be a function of distance\"\"\"\n",
    "\n",
    "    theta = mixing_angle\n",
    "    deltam2 = mass_difference\n",
    "    omega = deltam2/(2*energy)\n",
    "    dndr = \n",
    "    gamma = ( omega*(np.sin(2*theta) )**2 )/( np.cos(2*theta)*np.absolute(  ) )\n",
    "    pf = np.exp()\n",
    "    \n",
    "    return\n",
    "    "
   ]
  }
 ],
 "metadata": {
  "kernelspec": {
   "display_name": "Python 2",
   "language": "python",
   "name": "python2"
  },
  "language_info": {
   "codemirror_mode": {
    "name": "ipython",
    "version": 2
   },
   "file_extension": ".py",
   "mimetype": "text/x-python",
   "name": "python",
   "nbconvert_exporter": "python",
   "pygments_lexer": "ipython2",
   "version": "2.7.10"
  }
 },
 "nbformat": 4,
 "nbformat_minor": 0
}
