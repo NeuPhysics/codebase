{
 "cells": [
  {
   "cell_type": "markdown",
   "metadata": {},
   "source": [
    "## Understanding Periodic Matter Driven Neutrino Oscillations"
   ]
  },
  {
   "cell_type": "markdown",
   "metadata": {},
   "source": [
    "blablablabla"
   ]
  },
  {
   "cell_type": "markdown",
   "metadata": {},
   "source": [
    "I have an analytical expression using two folds of approximations.\n",
    "\n",
    "To check out how good the expression is doing, I need to verify at three levels.\n",
    "\n",
    "1. Compare the solution to the equation I have after the first RWA approximation and the final result;\n",
    "2. Compare the solution to the equation I have after the first RWA approximation and the solution to the original equation;\n",
    "3. IF the solution works well in the previous two comparisons, compare the solution to the original equation and the final analytical expression."
   ]
  },
  {
   "cell_type": "markdown",
   "metadata": {},
   "source": [
    "**Before doing anything, check if it is possible to find an analytical solution to the RWA approximated equation!**"
   ]
  },
  {
   "cell_type": "markdown",
   "metadata": {},
   "source": [
    "## Prep"
   ]
  },
  {
   "cell_type": "code",
   "execution_count": 5,
   "metadata": {
    "collapsed": true
   },
   "outputs": [],
   "source": [
    "%matplotlib inline\n",
    "%load_ext snakeviz"
   ]
  },
  {
   "cell_type": "code",
   "execution_count": 6,
   "metadata": {
    "collapsed": false
   },
   "outputs": [],
   "source": [
    "import numpy as np\n",
    "from scipy.integrate import odeint\n",
    "import matplotlib.pylab as plt"
   ]
  },
  {
   "cell_type": "markdown",
   "metadata": {},
   "source": [
    "### Analytical Expressioin"
   ]
  },
  {
   "cell_type": "markdown",
   "metadata": {
    "collapsed": true
   },
   "source": [
    "The final approximated result is"
   ]
  },
  {
   "cell_type": "code",
   "execution_count": 34,
   "metadata": {
    "collapsed": true
   },
   "outputs": [],
   "source": [
    "beta = 0.8 # beta = \\omega_\\lambda/\\omega\n",
    "alpha = 0.1 # alpha = lambda_0 /\\omega\n",
    "sin2thetav = 0.917\n",
    "cos2thetav = 0.4"
   ]
  },
  {
   "cell_type": "code",
   "execution_count": 35,
   "metadata": {
    "collapsed": false
   },
   "outputs": [
    {
     "data": {
      "text/plain": [
       "1.0008890000000001"
      ]
     },
     "execution_count": 35,
     "metadata": {},
     "output_type": "execute_result"
    }
   ],
   "source": [
    "sin2thetav**2+cos2thetav**2"
   ]
  },
  {
   "cell_type": "code",
   "execution_count": 36,
   "metadata": {
    "collapsed": true
   },
   "outputs": [],
   "source": [
    "def prob3(alp,bet,ome,x):\n",
    "    \n",
    "    # alp = alpha, bet = beta\n",
    "    \n",
    "    aOverOmega = (alp * sin2thetav / 2 )\n",
    "    deltaOverOmega = 1.0 - bet - 0.5*alp*cos2thetav*np.cos(bet*x)\n",
    "    \n",
    "    omegaRHat = np.sqrt(deltaOverOmega**2 + aOverOmega**2 )\n",
    "    omegaRHatsquare = deltaOverOmega**2 + aOverOmega**2 \n",
    "    \n",
    "    return (alp*sin2thetav)**2*(np.sin(omegaRHat*x/2))**2/(4*(omegaRHatsquare**2))\n",
    "    "
   ]
  },
  {
   "cell_type": "code",
   "execution_count": 37,
   "metadata": {
    "collapsed": false
   },
   "outputs": [
    {
     "data": {
      "text/plain": [
       "0.0037434107655270701"
      ]
     },
     "execution_count": 37,
     "metadata": {},
     "output_type": "execute_result"
    }
   ],
   "source": [
    "prob3(alpha,beta,omega,0.5)"
   ]
  },
  {
   "cell_type": "code",
   "execution_count": 38,
   "metadata": {
    "collapsed": false
   },
   "outputs": [
    {
     "data": {
      "image/png": "[encoded data removed]",
      "text/plain": [
       "<matplotlib.figure.Figure at 0x10796ae10>"
      ]
     },
     "metadata": {},
     "output_type": "display_data"
    }
   ],
   "source": [
    "pltend = 20\n",
    "pltlinsize = pltend*10 + 1\n",
    "x = np.linspace(0, pltend, pltlinsize)\n",
    "plt.figure(figsize = (16,9.36))\n",
    "plt.plot(x, prob3(alpha,beta,omega,x))\n",
    "plt.xlabel('Angle [rad]')\n",
    "plt.ylabel('sin(x)')\n",
    "plt.axis('tight')\n",
    "plt.show()"
   ]
  },
  {
   "cell_type": "markdown",
   "metadata": {},
   "source": [
    "## Solving The RWA Approximated Equation"
   ]
  },
  {
   "cell_type": "markdown",
   "metadata": {},
   "source": [
    "The RWA approximated result for c2 can be solved."
   ]
  },
  {
   "cell_type": "code",
   "execution_count": 35,
   "metadata": {
    "collapsed": false
   },
   "outputs": [
    {
     "data": {
      "text/plain": [
       "1.4142135623730951"
      ]
     },
     "execution_count": 35,
     "metadata": {},
     "output_type": "execute_result"
    }
   ],
   "source": [
    "np.sqrt(2)"
   ]
  },
  {
   "cell_type": "code",
   "execution_count": null,
   "metadata": {
    "collapsed": true
   },
   "outputs": [],
   "source": []
  },
  {
   "cell_type": "code",
   "execution_count": null,
   "metadata": {
    "collapsed": true
   },
   "outputs": [],
   "source": []
  },
  {
   "cell_type": "markdown",
   "metadata": {},
   "source": [
    "## Solving Completely"
   ]
  },
  {
   "cell_type": "code",
   "execution_count": 64,
   "metadata": {
    "collapsed": true
   },
   "outputs": [],
   "source": [
    "def derivtest(y,t):\n",
    "    a = -2.0\n",
    "    b = -0.1\n",
    "    return np.array([y[1], a*y[0] + b * y[1], y[1] + y[2], y[2] + y[3]])"
   ]
  },
  {
   "cell_type": "code",
   "execution_count": 65,
   "metadata": {
    "collapsed": false
   },
   "outputs": [],
   "source": [
    "timetest = np.linspace(0,10,1000)\n",
    "yinittest = np.array([0.0005,0.2,0.0,0.0])\n",
    "y = odeint(derivtest,yinittest,timetest)"
   ]
  },
  {
   "cell_type": "code",
   "execution_count": 66,
   "metadata": {
    "collapsed": false
   },
   "outputs": [
    {
     "data": {
      "image/png": "[encoded data removed]",
      "text/plain": [
       "<matplotlib.figure.Figure at 0x1085c8b90>"
      ]
     },
     "metadata": {},
     "output_type": "display_data"
    }
   ],
   "source": [
    "plt.plot(timetest,y[:,1])\n",
    "plt.show()"
   ]
  },
  {
   "cell_type": "code",
   "execution_count": 49,
   "metadata": {
    "collapsed": true
   },
   "outputs": [],
   "source": [
    "from scipy.integrate import ode\n",
    "\n",
    "y0, t0 = [1.0j, 2.0], 0\n",
    "\n",
    "def f(t, y, arg1):\n",
    "    return [1j*arg1*y[0] + y[1], -arg1*y[1]**2]\n",
    "def jac(t, y, arg1):\n",
    "    return [[1j*arg1, 1], [0, -arg1*2*y[1]]]"
   ]
  },
  {
   "cell_type": "code",
   "execution_count": 50,
   "metadata": {
    "collapsed": false
   },
   "outputs": [
    {
     "name": "stdout",
     "output_type": "stream",
     "text": [
      "(0, array([-0.71038232+0.23749653j,  0.40000271+0.j        ]))\n",
      "(1.0, array([ 0.19098503-0.52359246j,  0.22222356+0.j        ]))\n",
      "(2.0, array([ 0.47153208+0.52701229j,  0.15384681+0.j        ]))\n",
      "(3.0, array([-0.61905937+0.30726255j,  0.11764744+0.j        ]))\n",
      "(4.0, array([ 0.02340997-0.61418799j,  0.09523835+0.j        ]))\n",
      "(5.0, array([ 0.58643071+0.339819j,  0.08000018+0.j      ]))\n",
      "(6.0, array([-0.52070105+0.44525141j,  0.06896565+0.j        ]))\n",
      "(7.0, array([-0.15986733-0.61234476j,  0.06060616+0.j        ]))\n",
      "(8.0, array([ 0.64850462+0.15048982j,  0.05405414+0.j        ]))\n",
      "(9.0, array([-0.38404699+0.56382299j,  0.04878055+0.j        ]))\n"
     ]
    }
   ],
   "source": [
    "r = ode(f, jac).set_integrator('zvode', method='bdf')\n",
    "r.set_initial_value(y0, t0).set_f_params(2.0).set_jac_params(2.0)\n",
    "t1 = 10\n",
    "dt = 1\n",
    "while r.successful() and r.t < t1:\n",
    "    print(r.t, r.integrate(r.t+dt))"
   ]
  },
  {
   "cell_type": "code",
   "execution_count": null,
   "metadata": {
    "collapsed": true
   },
   "outputs": [],
   "source": []
  }
 ],
 "metadata": {
  "kernelspec": {
   "display_name": "Python 2",
   "language": "python",
   "name": "python2"
  },
  "language_info": {
   "codemirror_mode": {
    "name": "ipython",
    "version": 2
   },
   "file_extension": ".py",
   "mimetype": "text/x-python",
   "name": "python",
   "nbconvert_exporter": "python",
   "pygments_lexer": "ipython2",
   "version": "2.7.9"
  }
 },
 "nbformat": 4,
 "nbformat_minor": 0
}
