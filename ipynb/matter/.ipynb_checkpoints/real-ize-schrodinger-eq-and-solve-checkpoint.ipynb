{
 "cells": [
  {
   "cell_type": "code",
   "execution_count": 60,
   "metadata": {
    "collapsed": false
   },
   "outputs": [
    {
     "name": "stdout",
     "output_type": "stream",
     "text": [
      "The snakeviz extension is already loaded. To reload it, use:\n",
      "  %reload_ext snakeviz\n"
     ]
    }
   ],
   "source": [
    "%matplotlib inline\n",
    "%load_ext snakeviz"
   ]
  },
  {
   "cell_type": "code",
   "execution_count": 2,
   "metadata": {
    "collapsed": false
   },
   "outputs": [],
   "source": [
    "import numpy as np\n",
    "from scipy.integrate import odeint\n",
    "from scipy.integrate import ode\n",
    "import matplotlib.pylab as plt\n",
    "import csv\n",
    "import time"
   ]
  },
  {
   "cell_type": "code",
   "execution_count": 42,
   "metadata": {
    "collapsed": true
   },
   "outputs": [],
   "source": [
    "endpoint = 10000; # integration range\n",
    "dx = 100.0; # step size\n",
    "dx100 = 100000.0; # step size\n",
    "lam0 = 0.845258; # in unit of omegam, omegam = 3.66619*10^-17\n",
    "dellam = np.array([0.00003588645221954444, 0.06486364865874367]); # deltalambda/omegam\n",
    "ks = [1.0,1.0/90]; # two k's\n",
    "thm = 0.16212913985547778; # theta_m\n",
    "\n",
    "psi0, x0 = [1.0, 0.0, 0.0, 0.0], 0 # initial condition\n",
    "savestep = 1000; # save to file every savestep steps"
   ]
  },
  {
   "cell_type": "code",
   "execution_count": 43,
   "metadata": {
    "collapsed": true
   },
   "outputs": [],
   "source": [
    "def hamiltonian(x, deltalambda, k, thetam):\n",
    "    \n",
    "    return [[ 0,   0.5* np.sin(2*thetam) * ( deltalambda[0] * np.sin(k[0]*x) + deltalambda[1] * np.sin(k[1]*x) ) * np.exp( 1.0j * ( - x - np.cos(2*thetam) * (  ( deltalambda[0]/k[0] * np.cos(k[0]*x) + deltalambda[1]/k[1] * np.cos(k[1]*x) ) )  ) )     ],   [ 0.5* np.sin(2*thetam) * ( deltalambda[0] * np.sin(k[0]*x) + deltalambda[1] * np.sin(k[1]*x) ) * np.exp( -1.0j * ( - x - np.cos(2*thetam) * ( deltalambda[0] /k[0] * np.cos(k[0]*x) + deltalambda[1] /k[1] * np.cos(k[1]*x) )  ) ), 0 ]]   # Hamiltonian for double frequency\n",
    "\n",
    "def hamiltonian4(x, deltalambda, k, thetam):\n",
    "    hr = np.array(hamiltonian(x, deltalambda, k, thetam)).real;\n",
    "    hi = np.array(hamiltonian(x, deltalambda, k, thetam)).imag;\n",
    "    \n",
    "    # Ordering of \n",
    "    \n",
    "    return [[hi[0][0],hi[0][1],hr[0][0],hr[0][1]], [hi[1][0],hi[1][1],hr[1][0],hr[1][1]], [- hr[0][0], - hr[0][1], hi[0][0], hi[0][1]],  [- hr[1][0], - hr[1][1], hi[1][0], hi[1][1]] ]\n",
    "\n",
    "def sysdpsidt(psi, x, deltalambda, k, thetam):\n",
    "    \n",
    "    return np.dot(hamiltonian4(x, deltalambda, k, thetam), [psi[0], psi[1], psi[2], psi[3]])\n",
    "\n",
    "def sysjac(psi, x, deltalambda, k, thetam):\n",
    "    \n",
    "    return hamiltonian4(x, deltalambda, k, thetam)"
   ]
  },
  {
   "cell_type": "code",
   "execution_count": 58,
   "metadata": {
    "collapsed": false
   },
   "outputs": [],
   "source": [
    "def integral_tol(total_error_needed,totalrange, stepsize): # tolenrance of the integral that we require\n",
    "    \n",
    "    return total_error_needed*stepsize/totalrange"
   ]
  },
  {
   "cell_type": "code",
   "execution_count": 59,
   "metadata": {
    "collapsed": false
   },
   "outputs": [
    {
     "data": {
      "text/plain": [
       "1e-06"
      ]
     },
     "execution_count": 59,
     "metadata": {},
     "output_type": "execute_result"
    }
   ],
   "source": [
    "# Test the function\n",
    "#hamiltonian4(10,dellam,ks,thm)\n",
    "#hamiltonian(10,dellam,ks,thm)\n",
    "integral_tol(1e-4,endpoint,dx)"
   ]
  },
  {
   "cell_type": "code",
   "execution_count": 45,
   "metadata": {
    "collapsed": false
   },
   "outputs": [],
   "source": [
    "xlin = np.linspace(0, endpoint, np.floor(endpoint/dx) )\n",
    "# xlin100 = np.linspace(0, endpoint, np.floor(endpoint/dx100) )\n",
    "#print xlin"
   ]
  },
  {
   "cell_type": "code",
   "execution_count": 46,
   "metadata": {
    "collapsed": false
   },
   "outputs": [],
   "source": [
    "solodeint = odeint(sysdpsidt, psi0, xlin, args = (dellam,ks,thm), full_output = 1)"
   ]
  },
  {
   "cell_type": "code",
   "execution_count": 47,
   "metadata": {
    "collapsed": true
   },
   "outputs": [],
   "source": [
    "# solodeint100 = odeint(sysdpsidt, psi0, xlin100, args = (dellam,ks,thm), full_output = 1)"
   ]
  },
  {
   "cell_type": "code",
   "execution_count": 48,
   "metadata": {
    "collapsed": false,
    "scrolled": false
   },
   "outputs": [
    {
     "data": {
      "text/plain": [
       "'Integration successful.'"
      ]
     },
     "execution_count": 48,
     "metadata": {},
     "output_type": "execute_result"
    }
   ],
   "source": [
    "solodeint[1]['message']"
   ]
  },
  {
   "cell_type": "code",
   "execution_count": 49,
   "metadata": {
    "collapsed": false
   },
   "outputs": [],
   "source": [
    "prob0=solodeint[0][:,0]**2+solodeint[0][:,2]**2\n",
    "prob1=solodeint[0][:,1]**2+solodeint[0][:,3]**2\n",
    "\n",
    "#prob0_100=solodeint100[0][:,0]**2+solodeint100[0][:,2]**2\n",
    "#prob1_100=solodeint100[0][:,1]**2+solodeint100[0][:,3]**2"
   ]
  },
  {
   "cell_type": "code",
   "execution_count": 50,
   "metadata": {
    "collapsed": false,
    "scrolled": false
   },
   "outputs": [],
   "source": [
    "#print prob0, prob1, prob0+prob1"
   ]
  },
  {
   "cell_type": "code",
   "execution_count": 51,
   "metadata": {
    "collapsed": false,
    "scrolled": false
   },
   "outputs": [
    {
     "data": {
      "image/png": "[encoded data removed]",
      "text/plain": [
       "<matplotlib.figure.Figure at 0x10abe4750>"
      ]
     },
     "metadata": {},
     "output_type": "display_data"
    }
   ],
   "source": [
    "# plt.figure(figsize=(18,13))\n",
    "\n",
    "# plt.plot(xlin, prob0,'-')\n",
    "# plt.title(\"Probabilities\",fontsize=20)\n",
    "# plt.xlabel(\"$\\hat x$\",fontsize=20)\n",
    "# plt.ylabel(\"Probability\",fontsize=20)\n",
    "# plt.show()\n",
    "\n",
    "# plt.figure(figsize=(18,13))\n",
    "\n",
    "# plt.plot(xlin, prob1,'-')\n",
    "# plt.title(\"Probabilities\",fontsize=20)\n",
    "# plt.xlabel(\"$\\hat x$\",fontsize=20)\n",
    "# plt.ylabel(\"Probability\",fontsize=20)\n",
    "# plt.show()\n",
    "\n",
    "plt.figure(figsize=(18,13))\n",
    "\n",
    "plt.plot(xlin, prob0+prob1, '-')\n",
    "# plt.plot(xlin, prob0+prob1, '-', xlin100, prob0_100 + prob1_100,'*')\n",
    "# plt.plot(xlin100, prob0_100 + prob1_100,'*')\n",
    "plt.title(\"Probabilities\",fontsize=20)\n",
    "plt.xlabel(\"$\\hat x$\",fontsize=20)\n",
    "plt.ylabel(\"Probability\",fontsize=20)\n",
    "plt.ylim([0.999999,1.00001])\n",
    "plt.show()\n",
    "\n"
   ]
  },
  {
   "cell_type": "code",
   "execution_count": null,
   "metadata": {
    "collapsed": true
   },
   "outputs": [],
   "source": []
  },
  {
   "cell_type": "code",
   "execution_count": 3,
   "metadata": {
    "collapsed": false,
    "scrolled": true
   },
   "outputs": [
    {
     "data": {
      "text/plain": [
       "'0.17.1'"
      ]
     },
     "execution_count": 3,
     "metadata": {},
     "output_type": "execute_result"
    }
   ],
   "source": [
    "import scipy\n",
    "scipy.__version__"
   ]
  },
  {
   "cell_type": "markdown",
   "metadata": {},
   "source": [
    "### Data Processing Unit"
   ]
  },
  {
   "cell_type": "code",
   "execution_count": null,
   "metadata": {
    "collapsed": false,
    "scrolled": false
   },
   "outputs": [],
   "source": [
    "xlin_supernova = np.load(\"assets/two-freq-real-ize-xlin-10000000-100.0.npy\")\n",
    "prob0_supernova = np.load(\"assets/two-freq-real-ize-prob0-10000000-100.0.npy\")\n",
    "prob1_supernova = np.load(\"assets/two-freq-real-ize-prob1-10000000-100.0.npy\")\n",
    "\n",
    "plt.figure(figsize=(18,13))\n",
    "\n",
    "plt.plot(xlin_supernova, prob0_supernova,'-')\n",
    "plt.title(\"Probability $P_{1\\\\to1}$ (step=100.0)\",fontsize=20)\n",
    "plt.xlabel(\"$\\hat x$\",fontsize=20)\n",
    "plt.ylabel(\"Probability\",fontsize=20)\n",
    "plt.show()\n",
    "\n",
    "\n",
    "plt.figure(figsize=(18,13))\n",
    "\n",
    "plt.plot(xlin_supernova, prob1_supernova,'-')\n",
    "plt.title(\"Probability $P_{1\\\\to2}$ (step=100.0)\",fontsize=20)\n",
    "plt.xlabel(\"$\\hat x$\",fontsize=20)\n",
    "plt.ylabel(\"Probability\",fontsize=20)\n",
    "plt.show()\n",
    "\n",
    "plt.figure(figsize=(18,13))\n",
    "\n",
    "plt.plot(xlin_supernova, prob1_supernova+prob0_supernova,'-')\n",
    "plt.title(\"Total Probability (step=100.0)\",fontsize=20)\n",
    "plt.xlabel(\"$\\hat x$\",fontsize=20)\n",
    "plt.ylabel(\"Probability\",fontsize=20)\n",
    "plt.show()\n"
   ]
  },
  {
   "cell_type": "markdown",
   "metadata": {},
   "source": [
    "Examples of odeint"
   ]
  },
  {
   "cell_type": "code",
   "execution_count": 33,
   "metadata": {
    "collapsed": false
   },
   "outputs": [
    {
     "data": {
      "image/png": "[encoded data removed]",
      "text/plain": [
       "<matplotlib.figure.Figure at 0x10435a550>"
      ]
     },
     "metadata": {},
     "output_type": "display_data"
    }
   ],
   "source": [
    "def pend(y, t, b, c):\n",
    "    theta, omega = y\n",
    "    dydt = [omega, -b*omega - c*np.sin(theta)]\n",
    "    return dydt\n",
    "\n",
    "b = 0.25\n",
    "c = 5.0\n",
    "\n",
    "y0 = [np.pi - 0.1, 0.0]\n",
    "\n",
    "t = np.linspace(0, 10, 101)\n",
    "\n",
    "sol = odeint(pend, y0, t, args=(b, c),full_output=1)\n",
    "\n",
    "\n",
    "plt.plot(t, sol[0][:, 0], 'b', label='theta(t)')\n",
    "plt.plot(t, sol[0][:, 1], 'g', label='omega(t)')\n",
    "plt.legend(loc='best')\n",
    "plt.xlabel('t')\n",
    "plt.grid()\n",
    "plt.show()"
   ]
  },
  {
   "cell_type": "code",
   "execution_count": 36,
   "metadata": {
    "collapsed": false
   },
   "outputs": [
    {
     "data": {
      "text/plain": [
       "{'hu': array([ 0.02909913,  0.02909913,  0.02909913,  0.02461187,  0.04466197,\n",
       "         0.04466197,  0.04975119,  0.04975119,  0.0394766 ,  0.0394766 ,\n",
       "         0.0324055 ,  0.0324055 ,  0.0324055 ,  0.03697811,  0.03697811,\n",
       "         0.03064065,  0.03064065,  0.03064065,  0.02819459,  0.02819459,\n",
       "         0.02819459,  0.02819459,  0.02819459,  0.02819459,  0.03341736,\n",
       "         0.03341736,  0.03341736,  0.03341736,  0.04176933,  0.03479012,\n",
       "         0.03479012,  0.03479012,  0.03487164,  0.03487164,  0.03487164,\n",
       "         0.03487164,  0.03487164,  0.02855564,  0.02855564,  0.02855564,\n",
       "         0.03357137,  0.03357137,  0.03357137,  0.03754137,  0.03754137,\n",
       "         0.03754137,  0.03754137,  0.05093141,  0.05093141,  0.05093141,\n",
       "         0.05093141,  0.04016459,  0.04016459,  0.04016459,  0.04016459,\n",
       "         0.04016459,  0.04016459,  0.04016459,  0.04016459,  0.04016459,\n",
       "         0.04016459,  0.04974618,  0.0414047 ,  0.0414047 ,  0.0414047 ,\n",
       "         0.05626441,  0.05626441,  0.05626441,  0.05626441,  0.04607684,\n",
       "         0.04607684,  0.04607684,  0.04607684,  0.04607684,  0.05334296,\n",
       "         0.05334296,  0.05334296,  0.05334296,  0.05334296,  0.05334296,\n",
       "         0.05334296,  0.0451986 ,  0.0451986 ,  0.0451986 ,  0.0451986 ,\n",
       "         0.0451986 ,  0.05230448,  0.05230448,  0.05230448,  0.05230448,\n",
       "         0.05230448,  0.04399709,  0.04399709,  0.04399709,  0.04399709,\n",
       "         0.04399709,  0.05666398,  0.05666398,  0.05666398,  0.05666398]),\n",
       " 'imxer': -1,\n",
       " 'leniw': 22,\n",
       " 'lenrw': 52,\n",
       " 'message': 'Integration successful.',\n",
       " 'mused': array([1, 1, 1, 1, 1, 1, 1, 1, 1, 1, 1, 1, 1, 1, 1, 1, 1, 1, 1, 1, 1, 1, 1,\n",
       "        1, 1, 1, 1, 1, 1, 1, 1, 1, 1, 1, 1, 1, 1, 1, 1, 1, 1, 1, 1, 1, 1, 1,\n",
       "        1, 1, 1, 1, 1, 1, 1, 1, 1, 1, 1, 1, 1, 1, 1, 1, 1, 1, 1, 1, 1, 1, 1,\n",
       "        1, 1, 1, 1, 1, 1, 1, 1, 1, 1, 1, 1, 1, 1, 1, 1, 1, 1, 1, 1, 1, 1, 1,\n",
       "        1, 1, 1, 1, 1, 1, 1, 1], dtype=int32),\n",
       " 'nfe': array([ 39,  45,  51,  61,  67,  71,  77,  81,  87,  93,  99, 105, 113,\n",
       "        117, 123, 131, 137, 143, 153, 159, 167, 173, 181, 187, 193, 199,\n",
       "        205, 211, 217, 223, 229, 235, 243, 247, 253, 259, 265, 273, 281,\n",
       "        287, 295, 301, 307, 313, 317, 323, 329, 333, 337, 341, 345, 351,\n",
       "        357, 361, 367, 371, 377, 381, 387, 391, 395, 399, 407, 411, 417,\n",
       "        421, 423, 427, 431, 437, 441, 445, 451, 455, 459, 463, 467, 471,\n",
       "        473, 477, 481, 485, 491, 495, 499, 503, 507, 511, 515, 519, 523,\n",
       "        527, 531, 537, 541, 545, 549, 553, 557, 561], dtype=int32),\n",
       " 'nje': array([0, 0, 0, 0, 0, 0, 0, 0, 0, 0, 0, 0, 0, 0, 0, 0, 0, 0, 0, 0, 0, 0, 0,\n",
       "        0, 0, 0, 0, 0, 0, 0, 0, 0, 0, 0, 0, 0, 0, 0, 0, 0, 0, 0, 0, 0, 0, 0,\n",
       "        0, 0, 0, 0, 0, 0, 0, 0, 0, 0, 0, 0, 0, 0, 0, 0, 0, 0, 0, 0, 0, 0, 0,\n",
       "        0, 0, 0, 0, 0, 0, 0, 0, 0, 0, 0, 0, 0, 0, 0, 0, 0, 0, 0, 0, 0, 0, 0,\n",
       "        0, 0, 0, 0, 0, 0, 0, 0], dtype=int32),\n",
       " 'nqu': array([5, 5, 5, 4, 5, 5, 5, 5, 5, 5, 5, 5, 5, 6, 6, 6, 6, 6, 6, 6, 6, 6, 6,\n",
       "        6, 6, 6, 6, 6, 6, 6, 6, 6, 6, 6, 6, 6, 6, 6, 6, 6, 7, 7, 7, 7, 7, 7,\n",
       "        7, 7, 7, 7, 7, 7, 7, 7, 7, 7, 7, 7, 7, 7, 7, 7, 7, 7, 7, 8, 8, 8, 8,\n",
       "        8, 8, 8, 8, 8, 8, 8, 8, 8, 8, 8, 8, 8, 8, 8, 8, 8, 8, 8, 8, 8, 8, 8,\n",
       "        8, 8, 8, 8, 8, 8, 8, 8], dtype=int32),\n",
       " 'nst': array([ 17,  20,  23,  28,  30,  32,  35,  37,  39,  42,  44,  47,  51,\n",
       "         53,  56,  59,  62,  65,  69,  72,  76,  79,  83,  86,  89,  92,\n",
       "         95,  98, 101, 103, 106, 109, 112, 114, 117, 120, 123, 126, 130,\n",
       "        133, 137, 140, 143, 146, 148, 151, 154, 156, 158, 160, 162, 164,\n",
       "        167, 169, 172, 174, 177, 179, 182, 184, 186, 188, 191, 193, 196,\n",
       "        198, 199, 201, 203, 205, 207, 209, 212, 214, 216, 218, 220, 222,\n",
       "        223, 225, 227, 229, 232, 234, 236, 238, 240, 242, 244, 246, 248,\n",
       "        250, 252, 255, 257, 259, 261, 263, 265, 267], dtype=int32),\n",
       " 'tcur': array([  0.12630625,   0.21360365,   0.30090104,   0.42396041,\n",
       "          0.51328435,   0.60260828,   0.74168341,   0.84118578,\n",
       "          0.92013898,   1.03856878,   1.10337979,   1.20059629,\n",
       "          1.3302183 ,   1.40417452,   1.51510886,   1.61970573,\n",
       "          1.71162767,   1.80354962,   1.92783714,   2.01242092,\n",
       "          2.12519928,   2.20978306,   2.32256142,   2.4071452 ,\n",
       "          2.50739729,   2.60764939,   2.70790148,   2.80815357,\n",
       "          2.9251096 ,   3.00166905,   3.1060394 ,   3.21040976,\n",
       "          3.33320553,   3.40294881,   3.50756374,   3.61217867,\n",
       "          3.7167936 ,   3.80246052,   3.91668309,   4.00235002,\n",
       "          4.12158831,   4.22230243,   4.32301655,   4.43167067,\n",
       "          4.50675341,   4.61937753,   4.73200164,   4.82047442,\n",
       "          4.92233724,   5.02420006,   5.12606288,   5.21715888,\n",
       "          5.33765264,   5.41798181,   5.53847557,   5.61880475,\n",
       "          5.73929851,   5.81962768,   5.94012144,   6.02045062,\n",
       "          6.10077979,   6.20027215,   6.32448626,   6.40729567,\n",
       "          6.53150978,   6.6440386 ,   6.70030301,   6.81283183,\n",
       "          6.92536065,   7.01751432,   7.10966799,   7.20182167,\n",
       "          7.34005218,   7.43220585,   7.53162565,   7.63831156,\n",
       "          7.74499748,   7.8516834 ,   7.90502636,   8.01171228,\n",
       "          8.1183982 ,   8.20879539,   8.34439118,   8.43478837,\n",
       "          8.52518556,   8.61558275,   8.71308583,   8.81769479,\n",
       "          8.92230375,   9.02691271,   9.13152167,   9.21951586,\n",
       "          9.30751005,   9.43950133,   9.52749552,   9.61548971,\n",
       "          9.71615078,   9.82947874,   9.94280669,  10.05613464]),\n",
       " 'tolsf': array([ 0.,  0.,  0.,  0.,  0.,  0.,  0.,  0.,  0.,  0.,  0.,  0.,  0.,\n",
       "         0.,  0.,  0.,  0.,  0.,  0.,  0.,  0.,  0.,  0.,  0.,  0.,  0.,\n",
       "         0.,  0.,  0.,  0.,  0.,  0.,  0.,  0.,  0.,  0.,  0.,  0.,  0.,\n",
       "         0.,  0.,  0.,  0.,  0.,  0.,  0.,  0.,  0.,  0.,  0.,  0.,  0.,\n",
       "         0.,  0.,  0.,  0.,  0.,  0.,  0.,  0.,  0.,  0.,  0.,  0.,  0.,\n",
       "         0.,  0.,  0.,  0.,  0.,  0.,  0.,  0.,  0.,  0.,  0.,  0.,  0.,\n",
       "         0.,  0.,  0.,  0.,  0.,  0.,  0.,  0.,  0.,  0.,  0.,  0.,  0.,\n",
       "         0.,  0.,  0.,  0.,  0.,  0.,  0.,  0.,  0.]),\n",
       " 'tsw': array([ 0.,  0.,  0.,  0.,  0.,  0.,  0.,  0.,  0.,  0.,  0.,  0.,  0.,\n",
       "         0.,  0.,  0.,  0.,  0.,  0.,  0.,  0.,  0.,  0.,  0.,  0.,  0.,\n",
       "         0.,  0.,  0.,  0.,  0.,  0.,  0.,  0.,  0.,  0.,  0.,  0.,  0.,\n",
       "         0.,  0.,  0.,  0.,  0.,  0.,  0.,  0.,  0.,  0.,  0.,  0.,  0.,\n",
       "         0.,  0.,  0.,  0.,  0.,  0.,  0.,  0.,  0.,  0.,  0.,  0.,  0.,\n",
       "         0.,  0.,  0.,  0.,  0.,  0.,  0.,  0.,  0.,  0.,  0.,  0.,  0.,\n",
       "         0.,  0.,  0.,  0.,  0.,  0.,  0.,  0.,  0.,  0.,  0.,  0.,  0.,\n",
       "         0.,  0.,  0.,  0.,  0.,  0.,  0.,  0.,  0.])}"
      ]
     },
     "execution_count": 36,
     "metadata": {},
     "output_type": "execute_result"
    }
   ],
   "source": [
    "sol[1]"
   ]
  },
  {
   "cell_type": "code",
   "execution_count": null,
   "metadata": {
    "collapsed": true
   },
   "outputs": [],
   "source": []
  },
  {
   "cell_type": "code",
   "execution_count": null,
   "metadata": {
    "collapsed": true
   },
   "outputs": [],
   "source": []
  }
 ],
 "metadata": {
  "kernelspec": {
   "display_name": "Python 2",
   "language": "python",
   "name": "python2"
  },
  "language_info": {
   "codemirror_mode": {
    "name": "ipython",
    "version": 2
   },
   "file_extension": ".py",
   "mimetype": "text/x-python",
   "name": "python",
   "nbconvert_exporter": "python",
   "pygments_lexer": "ipython2",
   "version": "2.7.11"
  }
 },
 "nbformat": 4,
 "nbformat_minor": 0
}
