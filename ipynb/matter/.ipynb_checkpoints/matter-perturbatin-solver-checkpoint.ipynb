{
 "cells": [
  {
   "cell_type": "markdown",
   "metadata": {},
   "source": [
    "This is a dev notebook of a solver for matter effect."
   ]
  },
  {
   "cell_type": "code",
   "execution_count": 1,
   "metadata": {
    "collapsed": true
   },
   "outputs": [],
   "source": [
    "%matplotlib inline\n",
    "%load_ext snakeviz"
   ]
  },
  {
   "cell_type": "code",
   "execution_count": 2,
   "metadata": {
    "collapsed": true
   },
   "outputs": [],
   "source": [
    "import numpy as np\n",
    "from scipy.integrate import odeint\n",
    "from scipy.integrate import ode\n",
    "import matplotlib.pylab as plt"
   ]
  },
  {
   "cell_type": "code",
   "execution_count": 3,
   "metadata": {
    "collapsed": true
   },
   "outputs": [],
   "source": [
    "import neuosc as no"
   ]
  },
  {
   "cell_type": "markdown",
   "metadata": {},
   "source": [
    "### Expectations\n",
    "\n",
    "Before any calculation, I have calculated the results using Mathematica. The system to be solved is\n",
    "\n",
    "$$\n",
    "i \\partial_x \n",
    "$$"
   ]
  },
  {
   "cell_type": "markdown",
   "metadata": {},
   "source": [
    "The parameters used before are (in units of $\\mathrm{MeV}$ or $\\mathrm{MeV}^2$):\n",
    "\n",
    "$\\theta_v = \\theta_{13} = 0.153077$\n",
    "\n",
    "$\\delta m^2 = \\delta m_{13}^2 = 2.6*10^{-15}$\n",
    "\n",
    "$\\omega_v=6.5*10^{-17}$\n",
    "\n",
    "$\\lambda_0 = 0.5 \\lambda_{MSW} = 3.09888*10^{-17}$\n",
    "\n",
    "$\\omega_m = 3.66619*10^{-17}$\n",
    "\n",
    "$\\theta_m = 0.162129$\n",
    "\n",
    "$k_1= 1; k_2 = 1/90$\n",
    "\n",
    "$\\{A_1,A_2\\} = \\{0.0000358865, 0.0648636\\}$\n"
   ]
  },
  {
   "cell_type": "markdown",
   "metadata": {},
   "source": [
    "Using these parameters,\n",
    "\n",
    "1. Only one frequency case the oscillation weavelength is of the order $\\hat x = \\omega_m x\\sim 1000000$\n",
    "2. IF we are going to see the FULL oscillation, we expect a calculation range of $\\hat x \\sim 10^8$."
   ]
  },
  {
   "cell_type": "code",
   "execution_count": 4,
   "metadata": {
    "collapsed": true
   },
   "outputs": [],
   "source": [
    "endpoint = 1600;"
   ]
  },
  {
   "cell_type": "code",
   "execution_count": 5,
   "metadata": {
    "collapsed": false
   },
   "outputs": [
    {
     "name": "stdout",
     "output_type": "stream",
     "text": [
      "1.0 [-0.90929659-0.41615539j  0.00000000+0.j        ]\n",
      "2.0 [ 0.75680637-0.65363427j  0.00000000+0.j        ]\n",
      "3.0 [ 0.27940225+0.96016453j  0.00000000+0.j        ]\n",
      "4.0 [-0.98934129-0.14551028j  0.00000000+0.j        ]\n",
      "5.0 [ 0.54402136-0.83904599j  0.00000000+0.j        ]\n",
      "6.0 [ 0.53654507+0.84383924j  0.00000000+0.j        ]\n",
      "7.0 [-0.9905766+0.13671571j  0.0000000+0.j        ]\n",
      "8.0 [ 0.28790977-0.95761638j  0.00000000+0.j        ]\n",
      "9.0 [ 0.75093981+0.66030176j  0.00000000+0.j        ]\n",
      "10.0 [-0.91290702+0.40804133j  0.00000000+0.j        ]\n"
     ]
    }
   ],
   "source": [
    "from scipy import eye\n",
    "\n",
    "y0, t0 = [1.0j, 0.0], 0\n",
    "\n",
    "def f(t, y, arg1):\n",
    "    return [1j*arg1*y[0] + y[1], -arg1*y[1]**2]\n",
    "\n",
    "def jac(t, y, arg1):\n",
    "    return [[1j*arg1, 1], [0, -arg1*2*y[1]]]\n",
    "\n",
    "r = ode(f, jac).set_integrator('zvode', method='bdf', with_jacobian=True)\n",
    "r.set_initial_value(y0, t0).set_f_params(2.0).set_jac_params(2.0)\n",
    "t1 = 10\n",
    "dt = 1\n",
    "while r.successful() and r.t < t1:\n",
    "    r.integrate(r.t+dt)\n",
    "    print r.t, r.y"
   ]
  },
  {
   "cell_type": "code",
   "execution_count": 6,
   "metadata": {
    "collapsed": true
   },
   "outputs": [],
   "source": [
    "psi0, x0 = [1.0j, 0.0], 0\n",
    "\n",
    "def deripsi(x, psi, omegam, thetam)"
   ]
  },
  {
   "cell_type": "code",
   "execution_count": null,
   "metadata": {
    "collapsed": true
   },
   "outputs": [],
   "source": []
  }
 ],
 "metadata": {
  "kernelspec": {
   "display_name": "Python 2",
   "language": "python",
   "name": "python2"
  },
  "language_info": {
   "codemirror_mode": {
    "name": "ipython",
    "version": 2
   },
   "file_extension": ".py",
   "mimetype": "text/x-python",
   "name": "python",
   "nbconvert_exporter": "python",
   "pygments_lexer": "ipython2",
   "version": "2.7.10"
  }
 },
 "nbformat": 4,
 "nbformat_minor": 0
}
