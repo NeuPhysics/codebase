{
 "cells": [
  {
   "cell_type": "markdown",
   "metadata": {},
   "source": [
    "## Stimulated Oscillation"
   ]
  },
  {
   "cell_type": "markdown",
   "metadata": {},
   "source": [
    "Define functions and classes"
   ]
  },
  {
   "cell_type": "code",
   "execution_count": 190,
   "metadata": {
    "collapsed": true
   },
   "outputs": [],
   "source": [
    "%matplotlib inline\n",
    "import neuosc as ns\n",
    "import numpy as np\n",
    "import scipy as sp\n",
    "from scipy.linalg import expm\n",
    "import matplotlib.pyplot as plt"
   ]
  },
  {
   "cell_type": "code",
   "execution_count": 191,
   "metadata": {
    "collapsed": false
   },
   "outputs": [
    {
     "data": {
      "text/plain": [
       "<module 'neuosc' from 'neuosc.pyc'>"
      ]
     },
     "execution_count": 191,
     "metadata": {},
     "output_type": "execute_result"
    }
   ],
   "source": [
    "reload(neuosc)"
   ]
  },
  {
   "cell_type": "code",
   "execution_count": 192,
   "metadata": {
    "collapsed": false
   },
   "outputs": [],
   "source": [
    "thetav = 0.537*sp.pi/180\n",
    "fraction = 2\n",
    "lambda0 = np.cos(2*thetav)/fraction\n",
    "alpha = 0.1\n",
    "omegam = np.sqrt(lambda0**2+1-2*lambda0*np.cos(2*thetav))\n",
    "beta_r = 1-1/fraction"
   ]
  },
  {
   "cell_type": "code",
   "execution_count": 193,
   "metadata": {
    "collapsed": false
   },
   "outputs": [],
   "source": [
    "def lambda1(beta,x):\n",
    "    \"\"\"perturbation of matter\"\"\"\n",
    "\n",
    "    return alpha*lambda0*np.sin(beta*x);"
   ]
  },
  {
   "cell_type": "code",
   "execution_count": 194,
   "metadata": {
    "collapsed": false
   },
   "outputs": [],
   "source": [
    "def hamil(beta,x):\n",
    "    \"\"\"\"Hamiltonian of the system with perturbation\"\"\"\n",
    "    \n",
    "    return (-omegam/2 + (lambda1(beta,x)/2 )*np.cos(2*thetav) )*ns.pauli_matrices(3) +  (lambda1(beta,x)/2) *np.sin(2*thetav)*ns.pauli_matrices(1)"
   ]
  },
  {
   "cell_type": "code",
   "execution_count": 195,
   "metadata": {
    "collapsed": false
   },
   "outputs": [],
   "source": [
    "def sliced_evo(beta,x,deltax):\n",
    "    \n",
    "    return expm(-1j*hamil(beta,x)*deltax)"
   ]
  },
  {
   "cell_type": "markdown",
   "metadata": {},
   "source": [
    "Calculate the evolution matrix at anytime"
   ]
  },
  {
   "cell_type": "code",
   "execution_count": 196,
   "metadata": {
    "collapsed": false
   },
   "outputs": [],
   "source": [
    "def evo(beta,x,deltax):\n",
    "    \n",
    "    evo_mat = np.array([expm(-1j*hamil(beta,0)*deltax)])\n",
    "    \n",
    "    for xi in np.linspace(1, x, np.floor(x/deltax)):\n",
    "        evo_mat_new = np.dot(sliced_evo(beta,xi,deltax), evo_mat[xi/deltax-1])\n",
    "        evo_mat = np.append(evo_mat, np.array([evo_mat_new]), axis=0)\n",
    "        \n",
    "    return evo_mat"
   ]
  },
  {
   "cell_type": "code",
   "execution_count": 197,
   "metadata": {
    "collapsed": true
   },
   "outputs": [],
   "source": [
    "def evo_00(beta,x,deltax):\n",
    "    \n",
    "    evo_mat = np.array([[1,0],[0,1]])\n",
    "    evo_00_list = np.array([])\n",
    "    \n",
    "    for xi in np.linspace(0, x, np.floor(x/deltax)):\n",
    "        evo_mat = np.dot(sliced_evo(beta,xi,deltax), evo_mat)\n",
    "        evo_00_list = np.append(evo_00_list, np.absolute(evo_mat[0,0])**2)\n",
    "        #print xi\n",
    "        #print np.absolute(evo_mat[0,0])**2\n",
    "        #print \"\"\n",
    "        \n",
    "    return evo_00_list"
   ]
  },
  {
   "cell_type": "code",
   "execution_count": 198,
   "metadata": {
    "collapsed": false
   },
   "outputs": [
    {
     "data": {
      "text/plain": [
       "array([ 1.,  2.])"
      ]
     },
     "execution_count": 198,
     "metadata": {},
     "output_type": "execute_result"
    }
   ],
   "source": [
    "sliced_evo(beta_r,102,1)\n",
    "np.append(np.append(np.array([]),1),2)"
   ]
  },
  {
   "cell_type": "code",
   "execution_count": 215,
   "metadata": {
    "collapsed": false,
    "scrolled": false
   },
   "outputs": [
    {
     "data": {
      "text/plain": [
       "<matplotlib.text.Text at 0x1132a8c10>"
      ]
     },
     "execution_count": 215,
     "metadata": {},
     "output_type": "execute_result"
    },
    {
     "data": {
      "image/png": "[encoded data removed]",
      "text/plain": [
       "<matplotlib.figure.Figure at 0x10e20c8d0>"
      ]
     },
     "metadata": {},
     "output_type": "display_data"
    }
   ],
   "source": [
    "plt.figure(figsize=(10,10))\n",
    "plt.plot(evo_00(beta_r,10000,1))\n",
    "plt.ylabel(\"1,1 element\")"
   ]
  },
  {
   "cell_type": "code",
   "execution_count": 157,
   "metadata": {
    "collapsed": false
   },
   "outputs": [
    {
     "data": {
      "text/plain": [
       "array([[ 0.+0.j,  1.+0.j],\n",
       "       [ 1.+0.j,  0.+0.j]])"
      ]
     },
     "execution_count": 157,
     "metadata": {},
     "output_type": "execute_result"
    }
   ],
   "source": [
    "ns.pauli_matrices(1.0)"
   ]
  },
  {
   "cell_type": "code",
   "execution_count": 167,
   "metadata": {
    "collapsed": false
   },
   "outputs": [
    {
     "data": {
      "text/plain": [
       "array([[ 0.+0.j,  1.+0.j],\n",
       "       [ 1.+0.j,  0.+0.j],\n",
       "       [ 0.+0.j,  0.-1.j],\n",
       "       [ 0.+1.j,  0.+0.j]])"
      ]
     },
     "execution_count": 167,
     "metadata": {},
     "output_type": "execute_result"
    }
   ],
   "source": [
    "np.append(np.array(ns.pauli_matrices(1)),np.array(ns.pauli_matrices(2)),axis=0)"
   ]
  },
  {
   "cell_type": "code",
   "execution_count": null,
   "metadata": {
    "collapsed": true
   },
   "outputs": [],
   "source": []
  }
 ],
 "metadata": {
  "kernelspec": {
   "display_name": "Python 2",
   "language": "python",
   "name": "python2"
  },
  "language_info": {
   "codemirror_mode": {
    "name": "ipython",
    "version": 2
   },
   "file_extension": ".py",
   "mimetype": "text/x-python",
   "name": "python",
   "nbconvert_exporter": "python",
   "pygments_lexer": "ipython2",
   "version": "2.7.10"
  }
 },
 "nbformat": 4,
 "nbformat_minor": 0
}
