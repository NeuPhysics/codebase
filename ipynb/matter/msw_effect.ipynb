{
 "cells": [
  {
   "cell_type": "markdown",
   "metadata": {},
   "source": [
    "## MSW Effect"
   ]
  },
  {
   "cell_type": "markdown",
   "metadata": {},
   "source": [
    "Paremeters to be used\n",
    "\n",
    "1. mixing angle $\\theta$\n",
    "2. mass difference $\\Delta m^2$\n",
    "3. energy of neutrinos $E$\n",
    "4. matter profile $n_e(x)$"
   ]
  },
  {
   "cell_type": "markdown",
   "metadata": {},
   "source": [
    "Survival probability is given by\n",
    "\n",
    "\\begin{equation}\n",
    "P_{\\nu_e\\to\\nu_e} =  \\frac{1}{2} + \\left( \\frac{1}{2} - P_f \\right) \\cos 2\\theta \\cos 2\\theta_m,\n",
    "\\end{equation}\n",
    "\n",
    "where \n",
    "\n",
    "\\begin{equation}\n",
    "P_f = e^{-\\frac{\\pi}{2}\\gamma},\n",
    "\\end{equation}\n",
    "\n",
    "and \n",
    "\n",
    "\\begin{equation}\n",
    "\\gamma = \\frac{\\Delta m^2 \\sin^2 2\\theta}{2E \\cos 2\\theta \\left\\lvert \\frac{1}{n_e} \\frac{dn_e}{dr} \\right\\rvert } = \\frac{\\omega \\sin^2 2\\theta}{\\cos 2\\theta \\left\\lvert \\frac{1}{n_e} \\frac{dn_e}{dr} \\right\\rvert }  = \\frac{\\omega \\sin^2 2\\theta}{\\cos 2\\theta \\left\\lvert \\frac{1}{\\hat\\lambda} \\frac{d\\hat\\lambda}{dr} \\right\\rvert }\n",
    "\\end{equation}"
   ]
  },
  {
   "cell_type": "markdown",
   "metadata": {},
   "source": [
    "in which \n",
    "\n",
    "\\begin{equation}\n",
    "\\cos 2\\theta_m = \\frac{\\cos 2\\theta - \\hat\\lambda}{\\sqrt{\\hat\\lambda^2 + 1 - 2\\hat\\lambda \\cos 2\\theta}},\n",
    "\\end{equation}"
   ]
  },
  {
   "cell_type": "markdown",
   "metadata": {},
   "source": [
    "What we would like to produce is the survival probability of electron neutrinos as a heat map with two parameters mass difference $\\Delta m^2$ and $\\sin^22\\theta$ at each distance $x$.\n",
    "\n",
    "The formula we have above is only valid far away from the resonance where the Landau-Zener transition happens."
   ]
  },
  {
   "cell_type": "code",
   "execution_count": 1,
   "metadata": {
    "collapsed": true
   },
   "outputs": [],
   "source": [
    "%matplotlib inline"
   ]
  },
  {
   "cell_type": "code",
   "execution_count": 2,
   "metadata": {
    "collapsed": true
   },
   "outputs": [],
   "source": [
    "import numpy as np\n",
    "import sys\n",
    "sys.path.insert(0,'../../module')\n",
    "import neuosc as ns\n",
    "import sympy as sp\n",
    "import matplotlib.pyplot as plt"
   ]
  },
  {
   "cell_type": "code",
   "execution_count": 3,
   "metadata": {
    "collapsed": false
   },
   "outputs": [],
   "source": [
    "neut = ns.Neutrino(20000000,0.1,0.01)"
   ]
  },
  {
   "cell_type": "code",
   "execution_count": 4,
   "metadata": {
    "collapsed": false
   },
   "outputs": [
    {
     "name": "stdout",
     "output_type": "stream",
     "text": [
      "[[ 0.99500417  0.09983342]\n",
      " [-0.09983342  0.99500417]]\n"
     ]
    }
   ],
   "source": [
    "print neut.mixing_matrix()"
   ]
  },
  {
   "cell_type": "code",
   "execution_count": 74,
   "metadata": {
    "collapsed": false
   },
   "outputs": [],
   "source": [
    "def probability_landau(energy,mixing_angle,mass_difference):\n",
    "    \"\"\"Survival probability of electron neutrinos\n",
    "    \n",
    "    The parameter matter_profile should be a function of distance\"\"\"\n",
    "\n",
    "    rSol = 1.782663*10**(-15) # eV\n",
    "    theta = mixing_angle\n",
    "    deltam2 = mass_difference\n",
    "    omega = deltam2/(2*energy)\n",
    "    lambdahat = 0.76*10**(-11)/omega # eV\n",
    "    gamma = ( (np.sin(2*theta) )**2 )/( np.cos(2*theta)*10.5*rSol )\n",
    "    cos2thetam = np.absolute( ( np.cos(2*theta) - lambdahat )  )/( np.sqrt( lambdahat**2 + 1 - 2*lambdahat*np.cos(2*theta) ) )\n",
    "    pf = np.exp(-np.pi*gamma/2)\n",
    " \n",
    "    return (1 + (1 - 2*pf)*np.cos(2*theta)*cos2thetam )/2#, cos2thetam, np.cos(2*theta),(1 - 2*pf)*np.cos(2*theta)*cos2thetam\n"
   ]
  },
  {
   "cell_type": "code",
   "execution_count": 75,
   "metadata": {
    "collapsed": false
   },
   "outputs": [
    {
     "data": {
      "text/plain": [
       "0.99999999999875966"
      ]
     },
     "execution_count": 75,
     "metadata": {},
     "output_type": "execute_result"
    }
   ],
   "source": [
    "probability_landau(2000000,0.000001,0.00001)"
   ]
  },
  {
   "cell_type": "code",
   "execution_count": 105,
   "metadata": {
    "collapsed": false
   },
   "outputs": [],
   "source": [
    "neu_e = 1000000  #eV"
   ]
  },
  {
   "cell_type": "code",
   "execution_count": 106,
   "metadata": {
    "collapsed": true
   },
   "outputs": [],
   "source": [
    "size = [200,100]\n",
    "\n",
    "ma = np.linspace(0.005, np.pi/4, num=size[0])\n",
    "sinma = np.log10(np.sin(ma)**2)\n",
    "delm = np.linspace(np.log10(10**(-12)), np.log10(10**(0)), size[1])"
   ]
  },
  {
   "cell_type": "code",
   "execution_count": 107,
   "metadata": {
    "collapsed": false,
    "scrolled": true
   },
   "outputs": [],
   "source": [
    "su_prob = [[0 for x in range(size[0])] for x in range(size[1])]\n",
    "\n",
    "\n",
    "md = 0\n",
    "\n",
    "for mass in delm:\n",
    "    agl = 0\n",
    "    for angle in ma:\n",
    "        su_prob[md][agl] = probability_landau(neu_e, angle, 10**mass)\n",
    "        agl = agl + 1\n",
    "    md = md + 1\n"
   ]
  },
  {
   "cell_type": "code",
   "execution_count": 108,
   "metadata": {
    "collapsed": false
   },
   "outputs": [
    {
     "data": {
      "image/png": "[encoded data removed]",
      "text/plain": [
       "<matplotlib.figure.Figure at 0x108861ed0>"
      ]
     },
     "metadata": {},
     "output_type": "display_data"
    }
   ],
   "source": [
    "sinma, delm = np.meshgrid(sinma, delm)\n",
    "plt.pcolormesh(sinma, delm, np.array(su_prob) )\n",
    "plt.colorbar() #need a colorbar to show the intensity scale\n",
    "plt.show() #boom"
   ]
  },
  {
   "cell_type": "code",
   "execution_count": null,
   "metadata": {
    "collapsed": false
   },
   "outputs": [],
   "source": [
    "print ma"
   ]
  },
  {
   "cell_type": "code",
   "execution_count": 52,
   "metadata": {
    "collapsed": false
   },
   "outputs": [
    {
     "name": "stdout",
     "output_type": "stream",
     "text": [
      "[-20.         -19.7979798  -19.5959596  -19.39393939 -19.19191919\n",
      " -18.98989899 -18.78787879 -18.58585859 -18.38383838 -18.18181818\n",
      " -17.97979798 -17.77777778 -17.57575758 -17.37373737 -17.17171717\n",
      " -16.96969697 -16.76767677 -16.56565657 -16.36363636 -16.16161616\n",
      " -15.95959596 -15.75757576 -15.55555556 -15.35353535 -15.15151515\n",
      " -14.94949495 -14.74747475 -14.54545455 -14.34343434 -14.14141414\n",
      " -13.93939394 -13.73737374 -13.53535354 -13.33333333 -13.13131313\n",
      " -12.92929293 -12.72727273 -12.52525253 -12.32323232 -12.12121212\n",
      " -11.91919192 -11.71717172 -11.51515152 -11.31313131 -11.11111111\n",
      " -10.90909091 -10.70707071 -10.50505051 -10.3030303  -10.1010101\n",
      "  -9.8989899   -9.6969697   -9.49494949  -9.29292929  -9.09090909\n",
      "  -8.88888889  -8.68686869  -8.48484848  -8.28282828  -8.08080808\n",
      "  -7.87878788  -7.67676768  -7.47474747  -7.27272727  -7.07070707\n",
      "  -6.86868687  -6.66666667  -6.46464646  -6.26262626  -6.06060606\n",
      "  -5.85858586  -5.65656566  -5.45454545  -5.25252525  -5.05050505\n",
      "  -4.84848485  -4.64646465  -4.44444444  -4.24242424  -4.04040404\n",
      "  -3.83838384  -3.63636364  -3.43434343  -3.23232323  -3.03030303\n",
      "  -2.82828283  -2.62626263  -2.42424242  -2.22222222  -2.02020202\n",
      "  -1.81818182  -1.61616162  -1.41414141  -1.21212121  -1.01010101\n",
      "  -0.80808081  -0.60606061  -0.4040404   -0.2020202    0.        ]\n"
     ]
    }
   ],
   "source": [
    "print delm"
   ]
  },
  {
   "cell_type": "code",
   "execution_count": null,
   "metadata": {
    "collapsed": true
   },
   "outputs": [],
   "source": []
  }
 ],
 "metadata": {
  "kernelspec": {
   "display_name": "Python 2",
   "language": "python",
   "name": "python2"
  },
  "language_info": {
   "codemirror_mode": {
    "name": "ipython",
    "version": 2
   },
   "file_extension": ".py",
   "mimetype": "text/x-python",
   "name": "python",
   "nbconvert_exporter": "python",
   "pygments_lexer": "ipython2",
   "version": "2.7.10"
  }
 },
 "nbformat": 4,
 "nbformat_minor": 0
}
